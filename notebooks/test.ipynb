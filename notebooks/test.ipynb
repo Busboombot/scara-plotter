{
 "cells": [
  {
   "cell_type": "code",
   "execution_count": 25,
   "id": "e1ba85fd",
   "metadata": {},
   "outputs": [
    {
     "name": "stdout",
     "output_type": "stream",
     "text": [
      "Opened serial port /dev/tty.usbmodem22121401\n",
      "\n",
      "\n",
      "\n",
      "\n",
      " 10.5 10.4\n",
      " 21.0 20.8\n"
     ]
    }
   ],
   "source": [
    "%reload_ext autoreload\n",
    "%autoreload 2\n",
    "\n",
    "from scara.ptservo import PTServoArduino\n",
    "\n",
    "serial_port = '/dev/tty.usbmodem22121401'  # Replace with your serial port\n",
    "baud_rate = 115200  # Replace with your baud rate\n",
    "\n",
    "servo = PTServoArduino(serial_port, baud_rate)\n",
    "print(servo.check_status())\n",
    "\n",
    "servo.move_a(10.5,10.4)\n",
    "print(servo.check_status(), servo.x, servo.y)\n",
    "servo.move_r(10.5,10.4)\n",
    "print(servo.check_status(), servo.x, servo.y)\n",
    "\n",
    "servo.ser.close()"
   ]
  },
  {
   "cell_type": "code",
   "execution_count": null,
   "id": "122e81df",
   "metadata": {},
   "outputs": [],
   "source": []
  }
 ],
 "metadata": {
  "kernelspec": {
   "display_name": ".venv",
   "language": "python",
   "name": "python3"
  },
  "language_info": {
   "codemirror_mode": {
    "name": "ipython",
    "version": 3
   },
   "file_extension": ".py",
   "mimetype": "text/x-python",
   "name": "python",
   "nbconvert_exporter": "python",
   "pygments_lexer": "ipython3",
   "version": "3.12.9"
  }
 },
 "nbformat": 4,
 "nbformat_minor": 5
}
