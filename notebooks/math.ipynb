{
 "cells": [
  {
   "cell_type": "code",
   "execution_count": 66,
   "metadata": {},
   "outputs": [
    {
     "data": {
      "image/png": "[encoded data removed]",
      "text/plain": [
       "<Figure size 600x600 with 1 Axes>"
      ]
     },
     "metadata": {},
     "output_type": "display_data"
    }
   ],
   "source": [
    "%reload_ext autoreload\n",
    "%autoreload 2\n",
    "\n",
    "from scara.kinematics import mk_kine_pair\n",
    "import numpy as np\n",
    "import matplotlib.pyplot as plt\n",
    "\n",
    "l1 = 103\n",
    "l2 = 110\n",
    "forward, inverse = mk_kine_pair(l1, l2)\n",
    "\n",
    "def draw_workspace(forward):\n",
    "    \"\"\"\n",
    "    Draws the workspace of a 2-link robotic arm using the forward kinematics function.\n",
    "\n",
    "    Parameters:\n",
    "    forward (function): Forward kinematics function\n",
    "    T1 (numpy.ndarray): Array of joint angles for the first joint\n",
    "    T2 (numpy.ndarray): Array of joint angles for the second joint\n",
    "    \"\"\"\n",
    "\n",
    "    # Joint ranges in radians\n",
    "    theta1_range = np.linspace(0, np.pi, 200)\n",
    "    theta2_range = np.linspace(0, np.pi, 200)\n",
    "\n",
    "    # Meshgrid for all combinations\n",
    "    T1, T2 = np.meshgrid(theta1_range, theta2_range)\n",
    "\n",
    "    # Calculate the workspace points\n",
    "    X, Y = forward(T1, T2)\n",
    "\n",
    "    # Plot the workspace\n",
    "    plt.figure(figsize=(6, 6))\n",
    "    plt.scatter(X, Y, s=3, color='lightblue', label='Workspace')\n",
    "    plt.gca().set_aspect('equal')\n",
    "    plt.title(\"2-Link Robotic Arm Workspace\")\n",
    "    plt.xlabel(\"X\")\n",
    "    plt.ylabel(\"Y\")\n",
    "    plt.legend()\n",
    "    plt.grid(True)\n",
    "    plt.show()\n",
    "\n",
    "# Draw the workspace using the forward function\n",
    "draw_workspace(forward)\n",
    "\n",
    "l1 = 103\n",
    "l2 = 110\n",
    "forward, inverse = mk_kine_pair(l1, l2)\n"
   ]
  },
  {
   "cell_type": "code",
   "execution_count": 81,
   "metadata": {},
   "outputs": [
    {
     "name": "stdout",
     "output_type": "stream",
     "text": [
      "converted to radians 0.0 0.0\n",
      "(np.float64(-7.0), np.float64(0.0)) (np.float64(1.0177774980683254e-13), np.float64(0.0))\n"
     ]
    }
   ],
   "source": [
    "l1 = 103\n",
    "l2 = 110\n",
    "forward, inverse = mk_kine_pair(l1, l2)\n",
    "\n",
    "f = forward(0,0, True)\n",
    "i = inverse(*f, True)\n",
    "print(f, i)"
   ]
  },
  {
   "cell_type": "code",
   "execution_count": 84,
   "metadata": {},
   "outputs": [
    {
     "name": "stdout",
     "output_type": "stream",
     "text": [
      "Number of test points: 404\n",
      "Number of failed points: 0\n",
      "Successful region: x=[10.0, 150.0], y=[10.0, 100.0]\n"
     ]
    },
    {
     "data": {
      "text/plain": [
       "(np.float64(10.0), np.float64(150.0), np.float64(10.0), np.float64(100.0))"
      ]
     },
     "execution_count": 84,
     "metadata": {},
     "output_type": "execute_result"
    }
   ],
   "source": [
    "def point_inverts(forward, inverse, x_0, y_0):\n",
    "    \n",
    "    try:\n",
    "        t1, t2 = inverse(x_0, y_0)\n",
    "        x, y = forward(t1, t2)\n",
    "    except ValueError:\n",
    "        # If the point is unreachable, return False\n",
    "        return False\n",
    "    return np.isclose(x_0, x, atol=1e-2) and np.isclose(y_0, y, atol=1e-2)\n",
    "\n",
    "def test_invertibility(forward, inverse, min_x, max_x, min_y, max_y):\n",
    "    \"\"\"\n",
    "    Test the invertibility of the forward and inverse kinematics functions\n",
    "    for a square region defined by min_x, max_x, min_y, and max_y.\n",
    "    Collects all test points, sorts into success/failure, and returns stats.\n",
    "    \"\"\"\n",
    "    x_values = np.linspace(min_x, max_x, 100)\n",
    "    y_values = np.linspace(min_y, max_y, 100)\n",
    "\n",
    "    # Collect all points to test\n",
    "    points = []\n",
    "    # Four corners\n",
    "    points.extend([(min_x, min_y), (min_x, max_y), (max_x, min_y), (max_x, max_y)])\n",
    "    # Edges\n",
    "    for x in x_values:\n",
    "        points.append((x, min_y))\n",
    "        points.append((x, max_y))\n",
    "    for y in y_values:\n",
    "        points.append((min_x, y))\n",
    "        points.append((max_x, y))\n",
    "\n",
    "    s_points = []  # successful points\n",
    "    f_points = []  # failed points\n",
    "\n",
    "    for x, y in points:\n",
    "        if point_inverts(forward, inverse, x, y):\n",
    "            s_points.append((x, y))\n",
    "        else:\n",
    "            f_points.append((x, y))\n",
    "\n",
    "    print(f\"Number of test points: {len(points)}\")\n",
    "    print(f\"Number of failed points: {len(f_points)}\")\n",
    "\n",
    "    if s_points:\n",
    "        s_points_arr = np.array(s_points)\n",
    "        min_x_s, max_x_s = np.min(s_points_arr[:,0]), np.max(s_points_arr[:,0])\n",
    "        min_y_s, max_y_s = np.min(s_points_arr[:,1]), np.max(s_points_arr[:,1])\n",
    "        print(f\"Successful region: x=[{min_x_s}, {max_x_s}], y=[{min_y_s}, {max_y_s}]\")\n",
    "        return min_x_s, max_x_s, min_y_s, max_y_s\n",
    "    else:\n",
    "        print(\"No successful points.\")\n",
    "        return None\n",
    "\n",
    "# Example usage\n",
    "\n",
    "l1 = 103\n",
    "l2 = 110\n",
    "forward, inverse = mk_kine_pair(l1, l2)\n",
    "\n",
    "test_invertibility(forward, inverse, 10, 150, 10, 100)"
   ]
  },
  {
   "cell_type": "code",
   "execution_count": null,
   "metadata": {},
   "outputs": [],
   "source": []
  }
 ],
 "metadata": {
  "kernelspec": {
   "display_name": ".venv",
   "language": "python",
   "name": "python3"
  },
  "language_info": {
   "codemirror_mode": {
    "name": "ipython",
    "version": 3
   },
   "file_extension": ".py",
   "mimetype": "text/x-python",
   "name": "python",
   "nbconvert_exporter": "python",
   "pygments_lexer": "ipython3",
   "version": "3.12.9"
  }
 },
 "nbformat": 4,
 "nbformat_minor": 2
}
