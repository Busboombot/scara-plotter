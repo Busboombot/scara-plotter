{
 "cells": [
  {
   "cell_type": "code",
   "execution_count": 5,
   "id": "0e79dbd2",
   "metadata": {},
   "outputs": [
    {
     "name": "stdout",
     "output_type": "stream",
     "text": [
      "Received: \n"
     ]
    }
   ],
   "source": [
    "import serial\n",
    "\n",
    "# Open the serial port\n",
    "ser = serial.Serial('/dev/tty.usbmodem22121302', 9600, timeout=1)\n",
    "\n",
    "# Read and block until a line is read from the serial port\n",
    "received_data = ser.read_until(b'\\n').decode('utf-8').strip()\n",
    "print(f\"Received: {received_data}\")\n",
    "\n",
    "# Send \"hello world\\n\" to the serial port\n",
    "ser.write(b'hello world\\n')\n",
    "\n",
    "# Close the serial port\n",
    "ser.close()"
   ]
  },
  {
   "cell_type": "code",
   "execution_count": null,
   "id": "3e6a4057",
   "metadata": {},
   "outputs": [],
   "source": []
  }
 ],
 "metadata": {
  "kernelspec": {
   "display_name": ".venv",
   "language": "python",
   "name": "python3"
  },
  "language_info": {
   "codemirror_mode": {
    "name": "ipython",
    "version": 3
   },
   "file_extension": ".py",
   "mimetype": "text/x-python",
   "name": "python",
   "nbconvert_exporter": "python",
   "pygments_lexer": "ipython3",
   "version": "3.12.9"
  }
 },
 "nbformat": 4,
 "nbformat_minor": 5
}
